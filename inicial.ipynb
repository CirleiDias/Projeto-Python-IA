{
 "cells": [
  {
   "cell_type": "markdown",
   "metadata": {},
   "source": [
    "# Projeto Python IA: Inteligência Artificial e Previsões\n",
    "\n",
    "### Case: Score de Crédito dos Clientes\n",
    "\n",
    "Você foi contratado por um banco para conseguir definir o score de crédito dos clientes. Você precisa analisar todos os clientes do banco e, com base nessa análise, criar um modelo que consiga ler as informações do cliente e dizer automaticamente o score de crédito dele: Ruim, Ok, Bom\n",
    "\n",
    "Arquivos da aula: https://drive.google.com/drive/folders/1FbDqVq4XLvU85VBlVIMJ73p9oOu6u2-J?usp=drive_link"
   ]
  },
  {
   "cell_type": "code",
   "execution_count": 1,
   "metadata": {},
   "outputs": [
    {
     "ename": "",
     "evalue": "",
     "output_type": "error",
     "traceback": [
      "\u001b[1;31mFailed to start the Kernel. \n",
      "\u001b[1;31mUnable to start Kernel 'Python 3.12.8' due to a timeout waiting for the ports to get used. \n",
      "\u001b[1;31mView Jupyter <a href='command:jupyter.viewOutput'>log</a> for further details."
     ]
    }
   ],
   "source": [
    "!pip install pandas scikit-learn"
   ]
  },
  {
   "cell_type": "code",
   "execution_count": null,
   "metadata": {},
   "outputs": [],
   "source": [
    "# score de credito = nota de credito\n",
    "# Passo a passo:\n",
    "# Passo 0 : Entender a empresa e o desafio da empresa\n",
    "# Passo 1 : importar a ase de dados\n",
    "import pandas as pd\n",
    "from sklearn.preprocessing import LabelEncoder\n",
    "from sklearn.model_selection import train_test_split\n",
    "from sklearn.ensemble import RandomForestClassifier\n",
    "from sklearn.neighbors import KNeighborsClassifier\n",
    "from sklearn.preprocessing import StandardScaler  # Para escalonar os dados\n",
    "\n",
    "\n",
    "# Carregar os dados\n",
    "tabela = pd.read_csv('clientes.csv')\n",
    "\n",
    "# Preparar os dados\n",
    "# ... (seu código de preparação dos dados, incluindo LabelEncoder)\n",
    "\n",
    "# Separar em features (X) e target (y)\n",
    "X = tabela.drop(columns=['score_credito', 'id_cliente'])\n",
    "y = tabela['score_credito']\n",
    "\n",
    "# Escalonar os dados (opcional, mas recomendado para KNN)\n",
    "scaler = StandardScaler()\n",
    "x_scaled = scaler.fit_transform(x)\n",
    "\n",
    "# Divisão em treino e teste\n",
    "x_train, x_test, y_train, y_test = train_test_split(x_scaled, y, test_size=0.2, random_state=42)\n",
    "\n",
    "# Criação e treinamento dos modelos\n",
    "modelo_arvoredecisao = RandomForestClassifier(n_estimators=100, random_state=42)\n",
    "modelo_Knn = KNeighborsClassifier(n_neighbors=5)\n",
    "\n",
    "modelo_arvoredecisao.fit(x_train, y_train)\n",
    "modelo_Knn.fit(x_train, y_train)\n",
    "\n",
    "# Carregar novos clientes e aplicar os mesmos encoders\n",
    "tabela_novos_clientes = pd.read_csv('novos_clientes.csv')\n",
    "\n",
    "# Aplicar os mesmos encoders utilizados nos dados de treino\n",
    "tabela_novos_clientes['profissao'] = codificador_profissao.transform(tabela_novos_clientes['profissao'])\n",
    "tabela_novos_clientes['mix_credito'] = codificador_credito.transform(tabela_novos_clientes['mix_credito'])\n",
    "tabela_novos_clientes['comportamento_pagamento'] = codificador_pagamento.transform(tabela_novos_clientes['comportamento_pagamento'])\n",
    "\n",
    "# Escalonar os novos dados (se necessário)\n",
    "novos_clientes_scaled = scaler.transform(tabela_novos_clientes)\n",
    "\n",
    "# Previsão para novos clientes\n",
    "nova_previsao = modelo_arvoredecisao.predict(novos_clientes_scaled)  # Use o modelo escolhido\n",
    "print(nova_previsao)\n",
    "\n",
    "\n",
    "\n",
    "\n",
    "# Ferramentas : pandas , scikit-learn (IA) \n",
    "\n",
    "#OBS: transformar as colunas de texto (object) para numeros com labelEncoder (codificação de rotulos) \n",
    "# colunas(profissao,mix_credito,comportamento_pagamento) só não codifica a coluna que você quer prever (score_credito)\n",
    "#Substituindo: \n",
    "# cientista-1\n",
    "# bombbeiro-2\n",
    "#engenheiro-3\n",
    "#dentista-4\n",
    "#artista-5"
   ]
  },
  {
   "cell_type": "code",
   "execution_count": null,
   "metadata": {},
   "outputs": [],
   "source": []
  }
 ],
 "metadata": {
  "kernelspec": {
   "display_name": "Python 3",
   "language": "python",
   "name": "python3"
  },
  "language_info": {
   "codemirror_mode": {
    "name": "ipython",
    "version": 3
   },
   "file_extension": ".py",
   "mimetype": "text/x-python",
   "name": "python",
   "nbconvert_exporter": "python",
   "pygments_lexer": "ipython3",
   "version": "3.12.8"
  },
  "orig_nbformat": 4
 },
 "nbformat": 4,
 "nbformat_minor": 2
}
